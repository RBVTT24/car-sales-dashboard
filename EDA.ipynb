{
 "cells": [
  {
   "cell_type": "code",
   "execution_count": null,
   "metadata": {},
   "outputs": [],
   "source": [
    "import pandas as pd\n",
    "import plotly.express as px\n",
    "\n",
    "# Leer los datos\n",
    "car_data = pd.read_csv('../vehicles_us.csv')\n",
    "\n",
    "# Histograma\n",
    "fig_hist = px.histogram(car_data, x=\"odometer\")\n",
    "fig_hist.show()\n",
    "\n",
    "# Gráfico de dispersión\n",
    "fig_scatter = px.scatter(car_data, x=\"odometer\", y=\"price\")\n",
    "fig_scatter.show()\n"
   ]
  }
 ],
 "metadata": {
  "language_info": {
   "name": "python"
  }
 },
 "nbformat": 4,
 "nbformat_minor": 2
}
